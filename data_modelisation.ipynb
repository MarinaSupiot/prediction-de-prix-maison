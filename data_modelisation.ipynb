{
 "cells": [
  {
   "cell_type": "code",
   "execution_count": 251,
   "metadata": {},
   "outputs": [],
   "source": [
    "import pandas as pd\n",
    "import matplotlib.pyplot as plt\n",
    "import datetime\n",
    "import seaborn as sns\n",
    "import numpy as np\n",
    "\n",
    "import math\n",
    "from __future__ import division\n",
    "from scipy.stats import pearsonr\n",
    "from sklearn.linear_model import LinearRegression\n",
    "\n",
    "from sklearn.model_selection import train_test_split\n",
    "from sklearn.metrics import explained_variance_score\n",
    "\n",
    "from sklearn import tree, linear_model\n",
    "from sklearn.metrics import r2_score\n",
    "from sklearn.model_selection import learning_curve\n",
    "from sklearn.metrics import *\n"
   ]
  },
  {
   "cell_type": "code",
   "execution_count": 252,
   "metadata": {},
   "outputs": [],
   "source": [
    "df_final_zip = pd.read_csv(\"df_final_zip.csv\")"
   ]
  },
  {
   "cell_type": "markdown",
   "metadata": {},
   "source": [
    "Linear Regression sans Normalisarion"
   ]
  },
  {
   "cell_type": "code",
   "execution_count": 253,
   "metadata": {},
   "outputs": [],
   "source": [
    "model = linear_model.LinearRegression()\n",
    "new_data = df_final_zip[['price','sqft_living','grade', 'sqft_above', 'sqft_living15','bathrooms','view','sqft_basement','bedrooms','lat','waterfront','house_age', 'zipcode_98004', 'zipcode_98039', 'zipcode_98040'\n",
    "]]"
   ]
  },
  {
   "cell_type": "code",
   "execution_count": 254,
   "metadata": {},
   "outputs": [
    {
     "data": {
      "text/html": [
       "<div>\n",
       "<style scoped>\n",
       "    .dataframe tbody tr th:only-of-type {\n",
       "        vertical-align: middle;\n",
       "    }\n",
       "\n",
       "    .dataframe tbody tr th {\n",
       "        vertical-align: top;\n",
       "    }\n",
       "\n",
       "    .dataframe thead th {\n",
       "        text-align: right;\n",
       "    }\n",
       "</style>\n",
       "<table border=\"1\" class=\"dataframe\">\n",
       "  <thead>\n",
       "    <tr style=\"text-align: right;\">\n",
       "      <th></th>\n",
       "      <th>price</th>\n",
       "      <th>sqft_living</th>\n",
       "      <th>grade</th>\n",
       "      <th>sqft_above</th>\n",
       "      <th>sqft_living15</th>\n",
       "      <th>bathrooms</th>\n",
       "      <th>view</th>\n",
       "      <th>sqft_basement</th>\n",
       "      <th>bedrooms</th>\n",
       "      <th>lat</th>\n",
       "      <th>waterfront</th>\n",
       "      <th>house_age</th>\n",
       "      <th>zipcode_98004</th>\n",
       "      <th>zipcode_98039</th>\n",
       "      <th>zipcode_98040</th>\n",
       "    </tr>\n",
       "  </thead>\n",
       "  <tbody>\n",
       "    <tr>\n",
       "      <th>count</th>\n",
       "      <td>2.139700e+04</td>\n",
       "      <td>21397.000000</td>\n",
       "      <td>21397.000000</td>\n",
       "      <td>21397.000000</td>\n",
       "      <td>21397.000000</td>\n",
       "      <td>21397.000000</td>\n",
       "      <td>21397.000000</td>\n",
       "      <td>21397.000000</td>\n",
       "      <td>21397.000000</td>\n",
       "      <td>21397.000000</td>\n",
       "      <td>21397.000000</td>\n",
       "      <td>21397.000000</td>\n",
       "      <td>21397.000000</td>\n",
       "      <td>21397.000000</td>\n",
       "      <td>21397.000000</td>\n",
       "    </tr>\n",
       "    <tr>\n",
       "      <th>mean</th>\n",
       "      <td>5.181830e+05</td>\n",
       "      <td>2050.579707</td>\n",
       "      <td>7.626303</td>\n",
       "      <td>1766.311866</td>\n",
       "      <td>1971.626677</td>\n",
       "      <td>2.098525</td>\n",
       "      <td>0.216385</td>\n",
       "      <td>284.267841</td>\n",
       "      <td>3.361630</td>\n",
       "      <td>47.559461</td>\n",
       "      <td>0.005328</td>\n",
       "      <td>43.334580</td>\n",
       "      <td>0.012946</td>\n",
       "      <td>0.001355</td>\n",
       "      <td>0.012198</td>\n",
       "    </tr>\n",
       "    <tr>\n",
       "      <th>std</th>\n",
       "      <td>2.847527e+05</td>\n",
       "      <td>861.483593</td>\n",
       "      <td>1.135392</td>\n",
       "      <td>791.713655</td>\n",
       "      <td>668.086144</td>\n",
       "      <td>0.745611</td>\n",
       "      <td>0.729494</td>\n",
       "      <td>430.395339</td>\n",
       "      <td>0.897603</td>\n",
       "      <td>0.139047</td>\n",
       "      <td>0.072799</td>\n",
       "      <td>29.309064</td>\n",
       "      <td>0.113043</td>\n",
       "      <td>0.036791</td>\n",
       "      <td>0.109771</td>\n",
       "    </tr>\n",
       "    <tr>\n",
       "      <th>min</th>\n",
       "      <td>7.500000e+04</td>\n",
       "      <td>290.000000</td>\n",
       "      <td>1.000000</td>\n",
       "      <td>290.000000</td>\n",
       "      <td>399.000000</td>\n",
       "      <td>0.500000</td>\n",
       "      <td>0.000000</td>\n",
       "      <td>0.000000</td>\n",
       "      <td>1.000000</td>\n",
       "      <td>47.155900</td>\n",
       "      <td>0.000000</td>\n",
       "      <td>-1.000000</td>\n",
       "      <td>0.000000</td>\n",
       "      <td>0.000000</td>\n",
       "      <td>0.000000</td>\n",
       "    </tr>\n",
       "    <tr>\n",
       "      <th>25%</th>\n",
       "      <td>3.200000e+05</td>\n",
       "      <td>1420.000000</td>\n",
       "      <td>7.000000</td>\n",
       "      <td>1190.000000</td>\n",
       "      <td>1480.000000</td>\n",
       "      <td>1.500000</td>\n",
       "      <td>0.000000</td>\n",
       "      <td>0.000000</td>\n",
       "      <td>3.000000</td>\n",
       "      <td>47.469100</td>\n",
       "      <td>0.000000</td>\n",
       "      <td>18.000000</td>\n",
       "      <td>0.000000</td>\n",
       "      <td>0.000000</td>\n",
       "      <td>0.000000</td>\n",
       "    </tr>\n",
       "    <tr>\n",
       "      <th>50%</th>\n",
       "      <td>4.500000e+05</td>\n",
       "      <td>1900.000000</td>\n",
       "      <td>7.000000</td>\n",
       "      <td>1550.000000</td>\n",
       "      <td>1830.000000</td>\n",
       "      <td>2.250000</td>\n",
       "      <td>0.000000</td>\n",
       "      <td>0.000000</td>\n",
       "      <td>3.000000</td>\n",
       "      <td>47.570700</td>\n",
       "      <td>0.000000</td>\n",
       "      <td>40.000000</td>\n",
       "      <td>0.000000</td>\n",
       "      <td>0.000000</td>\n",
       "      <td>0.000000</td>\n",
       "    </tr>\n",
       "    <tr>\n",
       "      <th>75%</th>\n",
       "      <td>6.350000e+05</td>\n",
       "      <td>2520.000000</td>\n",
       "      <td>8.000000</td>\n",
       "      <td>2190.000000</td>\n",
       "      <td>2340.000000</td>\n",
       "      <td>2.500000</td>\n",
       "      <td>0.000000</td>\n",
       "      <td>550.000000</td>\n",
       "      <td>4.000000</td>\n",
       "      <td>47.678400</td>\n",
       "      <td>0.000000</td>\n",
       "      <td>63.000000</td>\n",
       "      <td>0.000000</td>\n",
       "      <td>0.000000</td>\n",
       "      <td>0.000000</td>\n",
       "    </tr>\n",
       "    <tr>\n",
       "      <th>max</th>\n",
       "      <td>1.965000e+06</td>\n",
       "      <td>7730.000000</td>\n",
       "      <td>13.000000</td>\n",
       "      <td>7420.000000</td>\n",
       "      <td>5790.000000</td>\n",
       "      <td>7.500000</td>\n",
       "      <td>4.000000</td>\n",
       "      <td>3260.000000</td>\n",
       "      <td>11.000000</td>\n",
       "      <td>47.777600</td>\n",
       "      <td>1.000000</td>\n",
       "      <td>115.000000</td>\n",
       "      <td>1.000000</td>\n",
       "      <td>1.000000</td>\n",
       "      <td>1.000000</td>\n",
       "    </tr>\n",
       "  </tbody>\n",
       "</table>\n",
       "</div>"
      ],
      "text/plain": [
       "              price   sqft_living         grade    sqft_above  sqft_living15  \\\n",
       "count  2.139700e+04  21397.000000  21397.000000  21397.000000   21397.000000   \n",
       "mean   5.181830e+05   2050.579707      7.626303   1766.311866    1971.626677   \n",
       "std    2.847527e+05    861.483593      1.135392    791.713655     668.086144   \n",
       "min    7.500000e+04    290.000000      1.000000    290.000000     399.000000   \n",
       "25%    3.200000e+05   1420.000000      7.000000   1190.000000    1480.000000   \n",
       "50%    4.500000e+05   1900.000000      7.000000   1550.000000    1830.000000   \n",
       "75%    6.350000e+05   2520.000000      8.000000   2190.000000    2340.000000   \n",
       "max    1.965000e+06   7730.000000     13.000000   7420.000000    5790.000000   \n",
       "\n",
       "          bathrooms          view  sqft_basement      bedrooms           lat  \\\n",
       "count  21397.000000  21397.000000   21397.000000  21397.000000  21397.000000   \n",
       "mean       2.098525      0.216385     284.267841      3.361630     47.559461   \n",
       "std        0.745611      0.729494     430.395339      0.897603      0.139047   \n",
       "min        0.500000      0.000000       0.000000      1.000000     47.155900   \n",
       "25%        1.500000      0.000000       0.000000      3.000000     47.469100   \n",
       "50%        2.250000      0.000000       0.000000      3.000000     47.570700   \n",
       "75%        2.500000      0.000000     550.000000      4.000000     47.678400   \n",
       "max        7.500000      4.000000    3260.000000     11.000000     47.777600   \n",
       "\n",
       "         waterfront     house_age  zipcode_98004  zipcode_98039  zipcode_98040  \n",
       "count  21397.000000  21397.000000   21397.000000   21397.000000   21397.000000  \n",
       "mean       0.005328     43.334580       0.012946       0.001355       0.012198  \n",
       "std        0.072799     29.309064       0.113043       0.036791       0.109771  \n",
       "min        0.000000     -1.000000       0.000000       0.000000       0.000000  \n",
       "25%        0.000000     18.000000       0.000000       0.000000       0.000000  \n",
       "50%        0.000000     40.000000       0.000000       0.000000       0.000000  \n",
       "75%        0.000000     63.000000       0.000000       0.000000       0.000000  \n",
       "max        1.000000    115.000000       1.000000       1.000000       1.000000  "
      ]
     },
     "execution_count": 254,
     "metadata": {},
     "output_type": "execute_result"
    }
   ],
   "source": [
    "new_data.describe()\n"
   ]
  },
  {
   "cell_type": "code",
   "execution_count": 255,
   "metadata": {},
   "outputs": [
    {
     "name": "stdout",
     "output_type": "stream",
     "text": [
      "0.7494577120982124\n"
     ]
    }
   ],
   "source": [
    "X = new_data.drop('price', axis=1)\n",
    "y = new_data.price\n",
    "X_train, X_test, y_train, y_test = train_test_split(X, y ,test_size=0.2)\n",
    "model.fit(X_train, y_train)\n",
    "print(model.score(X_test,y_test))\n"
   ]
  },
  {
   "cell_type": "code",
   "execution_count": 256,
   "metadata": {},
   "outputs": [
    {
     "data": {
      "text/plain": [
       "\" X.to_csv(r'df_sans_header.csv', index = False, header = False)\\ny.to_csv(r'tafget_sans_header.csv', index = False, header = False) \""
      ]
     },
     "execution_count": 256,
     "metadata": {},
     "output_type": "execute_result"
    }
   ],
   "source": [
    "\"\"\" X.to_csv(r'df_sans_header.csv', index = False, header = False)\n",
    "y.to_csv(r'tafget_sans_header.csv', index = False, header = False) \"\"\""
   ]
  },
  {
   "cell_type": "code",
   "execution_count": 257,
   "metadata": {},
   "outputs": [
    {
     "data": {
      "text/plain": [
       "Index(['sqft_living', 'grade', 'sqft_above', 'sqft_living15', 'bathrooms',\n",
       "       'view', 'sqft_basement', 'bedrooms', 'lat', 'waterfront', 'house_age',\n",
       "       'zipcode_98004', 'zipcode_98039', 'zipcode_98040'],\n",
       "      dtype='object')"
      ]
     },
     "execution_count": 257,
     "metadata": {},
     "output_type": "execute_result"
    }
   ],
   "source": [
    "X.columns"
   ]
  },
  {
   "cell_type": "code",
   "execution_count": 258,
   "metadata": {},
   "outputs": [],
   "source": [
    "def prix(model, sqft_living = 3940, grade = 9, sqft_above = 3940, sqft_living15 = 2370, bathrooms = 3.75, view = 3, sqft_basement = 0, bedrooms = 5.0, lat = 47.6203, waterfront = 0, house_age = 64, zipcode_98004 = 1, zipcode_98039 = 0, zipcode_98040 = 0):\n",
    "    x = np.array([sqft_living, grade, sqft_above, sqft_living15, bathrooms, view, sqft_basement, bedrooms, lat, waterfront, house_age, zipcode_98004, zipcode_98039, zipcode_98040]).reshape(1,14)\n",
    "    print(model.predict(x))\n"
   ]
  },
  {
   "cell_type": "code",
   "execution_count": 259,
   "metadata": {},
   "outputs": [
    {
     "name": "stdout",
     "output_type": "stream",
     "text": [
      "[1585224.63176959]\n"
     ]
    },
    {
     "name": "stderr",
     "output_type": "stream",
     "text": [
      "/home/marina/miniconda3/envs/msp/lib/python3.10/site-packages/sklearn/base.py:450: UserWarning: X does not have valid feature names, but LinearRegression was fitted with feature names\n",
      "  warnings.warn(\n"
     ]
    }
   ],
   "source": [
    "prix(model)\n",
    "\n"
   ]
  },
  {
   "cell_type": "code",
   "execution_count": 260,
   "metadata": {},
   "outputs": [
    {
     "data": {
      "text/plain": [
       "1965000.0"
      ]
     },
     "execution_count": 260,
     "metadata": {},
     "output_type": "execute_result"
    }
   ],
   "source": [
    "df_final_zip.price[0]\n"
   ]
  },
  {
   "cell_type": "code",
   "execution_count": 261,
   "metadata": {},
   "outputs": [
    {
     "name": "stdout",
     "output_type": "stream",
     "text": [
      "[ 1369  2738  4107  5477  6846  8215  9585 10954 12323 13693]\n"
     ]
    },
    {
     "data": {
      "text/plain": [
       "<matplotlib.legend.Legend at 0x7f3494211d20>"
      ]
     },
     "execution_count": 261,
     "metadata": {},
     "output_type": "execute_result"
    },
    {
     "data": {
      "image/png": "[encoded data removed]",
      "text/plain": [
       "<Figure size 432x288 with 1 Axes>"
      ]
     },
     "metadata": {
      "needs_background": "light"
     },
     "output_type": "display_data"
    }
   ],
   "source": [
    "N, train_score, val_score = learning_curve(model, X_train, y_train,\n",
    "                                           train_sizes=np.linspace(0.1, 1, 10), cv=5)\n",
    "\n",
    "print(N)\n",
    "plt.plot(N, train_score.mean(axis=1), label='train')\n",
    "plt.plot(N, val_score.mean(axis=1), label='validation')\n",
    "plt.xlabel('train_sizes')\n",
    "plt.legend()"
   ]
  },
  {
   "cell_type": "markdown",
   "metadata": {},
   "source": [
    "Normalisation"
   ]
  },
  {
   "cell_type": "markdown",
   "metadata": {},
   "source": [
    "1. StandardScaler"
   ]
  },
  {
   "cell_type": "code",
   "execution_count": 262,
   "metadata": {},
   "outputs": [
    {
     "data": {
      "text/plain": [
       "0.763378934153258"
      ]
     },
     "execution_count": 262,
     "metadata": {},
     "output_type": "execute_result"
    }
   ],
   "source": [
    "from sklearn.preprocessing import StandardScaler\n",
    "\n",
    "\n",
    "standard_model = linear_model.LinearRegression()\n",
    "X = new_data.drop('price', axis=1)\n",
    "y = new_data.price\n",
    "\n",
    "X_scale =StandardScaler().fit_transform(X)\n",
    "X_train, X_test, y_train, y_test = train_test_split(X_scale, y ,test_size=0.2)\n",
    "\n",
    "standard_model.fit(X_train, y_train)\n",
    "standard_model.score(X_test,y_test)\n",
    "\n",
    "\n"
   ]
  },
  {
   "cell_type": "code",
   "execution_count": 263,
   "metadata": {},
   "outputs": [
    {
     "name": "stdout",
     "output_type": "stream",
     "text": [
      "[ 1369  2738  4107  5477  6846  8215  9585 10954 12323 13693]\n"
     ]
    },
    {
     "data": {
      "text/plain": [
       "<matplotlib.legend.Legend at 0x7f349405b040>"
      ]
     },
     "execution_count": 263,
     "metadata": {},
     "output_type": "execute_result"
    },
    {
     "data": {
      "image/png": "[encoded data removed]",
      "text/plain": [
       "<Figure size 432x288 with 1 Axes>"
      ]
     },
     "metadata": {
      "needs_background": "light"
     },
     "output_type": "display_data"
    }
   ],
   "source": [
    "N, train_score, val_score = learning_curve(standard_model, X_train, y_train,\n",
    "                                           train_sizes=np.linspace(0.1, 1, 10), cv=5)\n",
    "\n",
    "print(N)\n",
    "plt.plot(N, train_score.mean(axis=1), label='train')\n",
    "plt.plot(N, val_score.mean(axis=1), label='validation')\n",
    "plt.xlabel('train_sizes')\n",
    "plt.legend()"
   ]
  },
  {
   "cell_type": "markdown",
   "metadata": {},
   "source": [
    "\n",
    "2. MinMaxScaler"
   ]
  },
  {
   "cell_type": "code",
   "execution_count": 264,
   "metadata": {},
   "outputs": [
    {
     "data": {
      "text/plain": [
       "0.7528567665363639"
      ]
     },
     "execution_count": 264,
     "metadata": {},
     "output_type": "execute_result"
    }
   ],
   "source": [
    "\n",
    "from sklearn.preprocessing import MinMaxScaler\n",
    "\n",
    "min_max_model = linear_model.LinearRegression()\n",
    "X = new_data.drop('price', axis=1)\n",
    "y = new_data.price\n",
    "X_minmax = MinMaxScaler().fit_transform(X)\n",
    "X_train, X_test, y_train, y_test = train_test_split(X_minmax, y ,test_size=0.2)\n",
    "min_max_model.fit(X_train, y_train)\n",
    "min_max_model.score(X_test,y_test)\n",
    "\n",
    "\n"
   ]
  },
  {
   "cell_type": "code",
   "execution_count": 265,
   "metadata": {},
   "outputs": [
    {
     "name": "stdout",
     "output_type": "stream",
     "text": [
      "[ 1369  2738  4107  5477  6846  8215  9585 10954 12323 13693]\n"
     ]
    },
    {
     "data": {
      "text/plain": [
       "<matplotlib.legend.Legend at 0x7f3494074bb0>"
      ]
     },
     "execution_count": 265,
     "metadata": {},
     "output_type": "execute_result"
    },
    {
     "data": {
      "image/png": "[encoded data removed]",
      "text/plain": [
       "<Figure size 432x288 with 1 Axes>"
      ]
     },
     "metadata": {
      "needs_background": "light"
     },
     "output_type": "display_data"
    }
   ],
   "source": [
    "N, train_score, val_score = learning_curve(min_max_model, X_train, y_train,\n",
    "                                           train_sizes=np.linspace(0.1, 1, 10), cv=5)\n",
    "\n",
    "print(N)\n",
    "plt.plot(N, train_score.mean(axis=1), label='train')\n",
    "plt.plot(N, val_score.mean(axis=1), label='validation')\n",
    "plt.xlabel('train_sizes')\n",
    "plt.legend()"
   ]
  },
  {
   "cell_type": "markdown",
   "metadata": {},
   "source": [
    "\n",
    "3. RobustScaler"
   ]
  },
  {
   "cell_type": "code",
   "execution_count": 266,
   "metadata": {},
   "outputs": [
    {
     "data": {
      "text/plain": [
       "0.758235436459236"
      ]
     },
     "execution_count": 266,
     "metadata": {},
     "output_type": "execute_result"
    }
   ],
   "source": [
    "from sklearn.preprocessing import RobustScaler\n",
    "\n",
    "robust_model = linear_model.LinearRegression()\n",
    "X = new_data.drop('price', axis=1)\n",
    "y = new_data.price\n",
    "X_robust = RobustScaler().fit_transform(X)\n",
    "X_train, X_test, y_train, y_test = train_test_split(X_robust, y ,test_size=0.2, shuffle=True)\n",
    "robust_model.fit(X_train, y_train)\n",
    "robust_model.score(X_test,y_test)\n"
   ]
  },
  {
   "cell_type": "code",
   "execution_count": 267,
   "metadata": {},
   "outputs": [
    {
     "name": "stdout",
     "output_type": "stream",
     "text": [
      "[ 1369  2738  4107  5477  6846  8215  9585 10954 12323 13693]\n"
     ]
    },
    {
     "data": {
      "text/plain": [
       "<matplotlib.legend.Legend at 0x7f3494074ca0>"
      ]
     },
     "execution_count": 267,
     "metadata": {},
     "output_type": "execute_result"
    },
    {
     "data": {
      "image/png": "[encoded data removed]",
      "text/plain": [
       "<Figure size 432x288 with 1 Axes>"
      ]
     },
     "metadata": {
      "needs_background": "light"
     },
     "output_type": "display_data"
    }
   ],
   "source": [
    "N, train_score, val_score = learning_curve(robust_model, X_train, y_train,\n",
    "                                           train_sizes=np.linspace(0.1, 1, 10), cv=5)\n",
    "\n",
    "print(N)\n",
    "plt.plot(N, train_score.mean(axis=1), label='train')\n",
    "plt.plot(N, val_score.mean(axis=1), label='validation')\n",
    "plt.xlabel('train_sizes')\n",
    "plt.legend()"
   ]
  },
  {
   "cell_type": "markdown",
   "metadata": {},
   "source": [
    "Ridge Regression"
   ]
  },
  {
   "cell_type": "code",
   "execution_count": 268,
   "metadata": {},
   "outputs": [
    {
     "data": {
      "text/plain": [
       "0.7664052151954657"
      ]
     },
     "execution_count": 268,
     "metadata": {},
     "output_type": "execute_result"
    }
   ],
   "source": [
    "from sklearn.linear_model import Ridge\n",
    "\n",
    "ridge_model = Ridge(alpha=0.5)\n",
    "\n",
    "\n",
    "X = X_scale\n",
    "y = new_data.price\n",
    "X_train, X_test, y_train, y_test = train_test_split(X, y ,test_size=0.2)\n",
    "ridge_model.fit(X_train, y_train)\n",
    "ridge_model.score(X_test,y_test)"
   ]
  },
  {
   "cell_type": "code",
   "execution_count": 269,
   "metadata": {},
   "outputs": [
    {
     "name": "stdout",
     "output_type": "stream",
     "text": [
      "[ 1369  2738  4107  5477  6846  8215  9585 10954 12323 13693]\n"
     ]
    },
    {
     "data": {
      "text/plain": [
       "<matplotlib.legend.Legend at 0x7f34945109d0>"
      ]
     },
     "execution_count": 269,
     "metadata": {},
     "output_type": "execute_result"
    },
    {
     "data": {
      "image/png": "[encoded data removed]",
      "text/plain": [
       "<Figure size 432x288 with 1 Axes>"
      ]
     },
     "metadata": {
      "needs_background": "light"
     },
     "output_type": "display_data"
    }
   ],
   "source": [
    "N, train_score, val_score = learning_curve(ridge_model, X_train, y_train,\n",
    "                                           train_sizes=np.linspace(0.1, 1, 10), cv=5, shuffle = True)\n",
    "\n",
    "print(N)\n",
    "plt.plot(N, train_score.mean(axis=1), label='train')\n",
    "plt.plot(N, val_score.mean(axis=1), label='validation')\n",
    "plt.xlabel('train_sizes')\n",
    "plt.legend()"
   ]
  },
  {
   "cell_type": "markdown",
   "metadata": {},
   "source": [
    "Lasso Regression"
   ]
  },
  {
   "cell_type": "code",
   "execution_count": 270,
   "metadata": {},
   "outputs": [
    {
     "name": "stderr",
     "output_type": "stream",
     "text": [
      "/home/marina/miniconda3/envs/msp/lib/python3.10/site-packages/sklearn/linear_model/_coordinate_descent.py:648: ConvergenceWarning: Objective did not converge. You might want to increase the number of iterations, check the scale of the features or consider increasing regularisation. Duality gap: 9.507e+12, tolerance: 1.411e+11\n",
      "  model = cd_fast.enet_coordinate_descent(\n"
     ]
    },
    {
     "data": {
      "text/plain": [
       "0.7484506245831926"
      ]
     },
     "execution_count": 270,
     "metadata": {},
     "output_type": "execute_result"
    }
   ],
   "source": [
    "from sklearn.linear_model import Lasso\n",
    "lasso_model = Lasso(alpha=0.5)\n",
    "\n",
    "X = X_scale\n",
    "y = new_data.price\n",
    "X_train, X_test, y_train, y_test = train_test_split(X, y ,test_size=0.2)\n",
    "lasso_model.fit(X_train, y_train)\n",
    "lasso_model.score(X_test,y_test)"
   ]
  },
  {
   "cell_type": "code",
   "execution_count": 271,
   "metadata": {},
   "outputs": [
    {
     "name": "stderr",
     "output_type": "stream",
     "text": [
      "/home/marina/miniconda3/envs/msp/lib/python3.10/site-packages/sklearn/linear_model/_coordinate_descent.py:648: ConvergenceWarning: Objective did not converge. You might want to increase the number of iterations, check the scale of the features or consider increasing regularisation. Duality gap: 7.499e+11, tolerance: 1.216e+10\n",
      "  model = cd_fast.enet_coordinate_descent(\n",
      "/home/marina/miniconda3/envs/msp/lib/python3.10/site-packages/sklearn/linear_model/_coordinate_descent.py:648: ConvergenceWarning: Objective did not converge. You might want to increase the number of iterations, check the scale of the features or consider increasing regularisation. Duality gap: 1.509e+12, tolerance: 2.328e+10\n",
      "  model = cd_fast.enet_coordinate_descent(\n",
      "/home/marina/miniconda3/envs/msp/lib/python3.10/site-packages/sklearn/linear_model/_coordinate_descent.py:648: ConvergenceWarning: Objective did not converge. You might want to increase the number of iterations, check the scale of the features or consider increasing regularisation. Duality gap: 2.367e+12, tolerance: 3.551e+10\n",
      "  model = cd_fast.enet_coordinate_descent(\n",
      "/home/marina/miniconda3/envs/msp/lib/python3.10/site-packages/sklearn/linear_model/_coordinate_descent.py:648: ConvergenceWarning: Objective did not converge. You might want to increase the number of iterations, check the scale of the features or consider increasing regularisation. Duality gap: 3.035e+12, tolerance: 4.603e+10\n",
      "  model = cd_fast.enet_coordinate_descent(\n",
      "/home/marina/miniconda3/envs/msp/lib/python3.10/site-packages/sklearn/linear_model/_coordinate_descent.py:648: ConvergenceWarning: Objective did not converge. You might want to increase the number of iterations, check the scale of the features or consider increasing regularisation. Duality gap: 3.817e+12, tolerance: 5.713e+10\n",
      "  model = cd_fast.enet_coordinate_descent(\n",
      "/home/marina/miniconda3/envs/msp/lib/python3.10/site-packages/sklearn/linear_model/_coordinate_descent.py:648: ConvergenceWarning: Objective did not converge. You might want to increase the number of iterations, check the scale of the features or consider increasing regularisation. Duality gap: 4.631e+12, tolerance: 6.877e+10\n",
      "  model = cd_fast.enet_coordinate_descent(\n",
      "/home/marina/miniconda3/envs/msp/lib/python3.10/site-packages/sklearn/linear_model/_coordinate_descent.py:648: ConvergenceWarning: Objective did not converge. You might want to increase the number of iterations, check the scale of the features or consider increasing regularisation. Duality gap: 5.326e+12, tolerance: 7.997e+10\n",
      "  model = cd_fast.enet_coordinate_descent(\n",
      "/home/marina/miniconda3/envs/msp/lib/python3.10/site-packages/sklearn/linear_model/_coordinate_descent.py:648: ConvergenceWarning: Objective did not converge. You might want to increase the number of iterations, check the scale of the features or consider increasing regularisation. Duality gap: 5.986e+12, tolerance: 8.976e+10\n",
      "  model = cd_fast.enet_coordinate_descent(\n",
      "/home/marina/miniconda3/envs/msp/lib/python3.10/site-packages/sklearn/linear_model/_coordinate_descent.py:648: ConvergenceWarning: Objective did not converge. You might want to increase the number of iterations, check the scale of the features or consider increasing regularisation. Duality gap: 6.870e+12, tolerance: 1.011e+11\n",
      "  model = cd_fast.enet_coordinate_descent(\n",
      "/home/marina/miniconda3/envs/msp/lib/python3.10/site-packages/sklearn/linear_model/_coordinate_descent.py:648: ConvergenceWarning: Objective did not converge. You might want to increase the number of iterations, check the scale of the features or consider increasing regularisation. Duality gap: 7.691e+12, tolerance: 1.124e+11\n",
      "  model = cd_fast.enet_coordinate_descent(\n",
      "/home/marina/miniconda3/envs/msp/lib/python3.10/site-packages/sklearn/linear_model/_coordinate_descent.py:648: ConvergenceWarning: Objective did not converge. You might want to increase the number of iterations, check the scale of the features or consider increasing regularisation. Duality gap: 5.911e+11, tolerance: 1.132e+10\n",
      "  model = cd_fast.enet_coordinate_descent(\n",
      "/home/marina/miniconda3/envs/msp/lib/python3.10/site-packages/sklearn/linear_model/_coordinate_descent.py:648: ConvergenceWarning: Objective did not converge. You might want to increase the number of iterations, check the scale of the features or consider increasing regularisation. Duality gap: 1.402e+12, tolerance: 2.367e+10\n",
      "  model = cd_fast.enet_coordinate_descent(\n",
      "/home/marina/miniconda3/envs/msp/lib/python3.10/site-packages/sklearn/linear_model/_coordinate_descent.py:648: ConvergenceWarning: Objective did not converge. You might want to increase the number of iterations, check the scale of the features or consider increasing regularisation. Duality gap: 2.276e+12, tolerance: 3.484e+10\n",
      "  model = cd_fast.enet_coordinate_descent(\n",
      "/home/marina/miniconda3/envs/msp/lib/python3.10/site-packages/sklearn/linear_model/_coordinate_descent.py:648: ConvergenceWarning: Objective did not converge. You might want to increase the number of iterations, check the scale of the features or consider increasing regularisation. Duality gap: 2.948e+12, tolerance: 4.538e+10\n",
      "  model = cd_fast.enet_coordinate_descent(\n",
      "/home/marina/miniconda3/envs/msp/lib/python3.10/site-packages/sklearn/linear_model/_coordinate_descent.py:648: ConvergenceWarning: Objective did not converge. You might want to increase the number of iterations, check the scale of the features or consider increasing regularisation. Duality gap: 3.725e+12, tolerance: 5.649e+10\n",
      "  model = cd_fast.enet_coordinate_descent(\n",
      "/home/marina/miniconda3/envs/msp/lib/python3.10/site-packages/sklearn/linear_model/_coordinate_descent.py:648: ConvergenceWarning: Objective did not converge. You might want to increase the number of iterations, check the scale of the features or consider increasing regularisation. Duality gap: 4.537e+12, tolerance: 6.813e+10\n",
      "  model = cd_fast.enet_coordinate_descent(\n",
      "/home/marina/miniconda3/envs/msp/lib/python3.10/site-packages/sklearn/linear_model/_coordinate_descent.py:648: ConvergenceWarning: Objective did not converge. You might want to increase the number of iterations, check the scale of the features or consider increasing regularisation. Duality gap: 5.234e+12, tolerance: 7.933e+10\n",
      "  model = cd_fast.enet_coordinate_descent(\n",
      "/home/marina/miniconda3/envs/msp/lib/python3.10/site-packages/sklearn/linear_model/_coordinate_descent.py:648: ConvergenceWarning: Objective did not converge. You might want to increase the number of iterations, check the scale of the features or consider increasing regularisation. Duality gap: 5.894e+12, tolerance: 8.913e+10\n",
      "  model = cd_fast.enet_coordinate_descent(\n",
      "/home/marina/miniconda3/envs/msp/lib/python3.10/site-packages/sklearn/linear_model/_coordinate_descent.py:648: ConvergenceWarning: Objective did not converge. You might want to increase the number of iterations, check the scale of the features or consider increasing regularisation. Duality gap: 6.775e+12, tolerance: 1.005e+11\n",
      "  model = cd_fast.enet_coordinate_descent(\n",
      "/home/marina/miniconda3/envs/msp/lib/python3.10/site-packages/sklearn/linear_model/_coordinate_descent.py:648: ConvergenceWarning: Objective did not converge. You might want to increase the number of iterations, check the scale of the features or consider increasing regularisation. Duality gap: 7.596e+12, tolerance: 1.117e+11\n",
      "  model = cd_fast.enet_coordinate_descent(\n",
      "/home/marina/miniconda3/envs/msp/lib/python3.10/site-packages/sklearn/linear_model/_coordinate_descent.py:648: ConvergenceWarning: Objective did not converge. You might want to increase the number of iterations, check the scale of the features or consider increasing regularisation. Duality gap: 5.911e+11, tolerance: 1.132e+10\n",
      "  model = cd_fast.enet_coordinate_descent(\n",
      "/home/marina/miniconda3/envs/msp/lib/python3.10/site-packages/sklearn/linear_model/_coordinate_descent.py:648: ConvergenceWarning: Objective did not converge. You might want to increase the number of iterations, check the scale of the features or consider increasing regularisation. Duality gap: 1.402e+12, tolerance: 2.367e+10\n",
      "  model = cd_fast.enet_coordinate_descent(\n",
      "/home/marina/miniconda3/envs/msp/lib/python3.10/site-packages/sklearn/linear_model/_coordinate_descent.py:648: ConvergenceWarning: Objective did not converge. You might want to increase the number of iterations, check the scale of the features or consider increasing regularisation. Duality gap: 2.289e+12, tolerance: 3.531e+10\n",
      "  model = cd_fast.enet_coordinate_descent(\n",
      "/home/marina/miniconda3/envs/msp/lib/python3.10/site-packages/sklearn/linear_model/_coordinate_descent.py:648: ConvergenceWarning: Objective did not converge. You might want to increase the number of iterations, check the scale of the features or consider increasing regularisation. Duality gap: 2.792e+12, tolerance: 4.632e+10\n",
      "  model = cd_fast.enet_coordinate_descent(\n",
      "/home/marina/miniconda3/envs/msp/lib/python3.10/site-packages/sklearn/linear_model/_coordinate_descent.py:648: ConvergenceWarning: Objective did not converge. You might want to increase the number of iterations, check the scale of the features or consider increasing regularisation. Duality gap: 3.683e+12, tolerance: 5.797e+10\n",
      "  model = cd_fast.enet_coordinate_descent(\n",
      "/home/marina/miniconda3/envs/msp/lib/python3.10/site-packages/sklearn/linear_model/_coordinate_descent.py:648: ConvergenceWarning: Objective did not converge. You might want to increase the number of iterations, check the scale of the features or consider increasing regularisation. Duality gap: 4.523e+12, tolerance: 6.974e+10\n",
      "  model = cd_fast.enet_coordinate_descent(\n",
      "/home/marina/miniconda3/envs/msp/lib/python3.10/site-packages/sklearn/linear_model/_coordinate_descent.py:648: ConvergenceWarning: Objective did not converge. You might want to increase the number of iterations, check the scale of the features or consider increasing regularisation. Duality gap: 5.224e+12, tolerance: 8.096e+10\n",
      "  model = cd_fast.enet_coordinate_descent(\n",
      "/home/marina/miniconda3/envs/msp/lib/python3.10/site-packages/sklearn/linear_model/_coordinate_descent.py:648: ConvergenceWarning: Objective did not converge. You might want to increase the number of iterations, check the scale of the features or consider increasing regularisation. Duality gap: 5.883e+12, tolerance: 9.077e+10\n",
      "  model = cd_fast.enet_coordinate_descent(\n",
      "/home/marina/miniconda3/envs/msp/lib/python3.10/site-packages/sklearn/linear_model/_coordinate_descent.py:648: ConvergenceWarning: Objective did not converge. You might want to increase the number of iterations, check the scale of the features or consider increasing regularisation. Duality gap: 6.767e+12, tolerance: 1.021e+11\n",
      "  model = cd_fast.enet_coordinate_descent(\n",
      "/home/marina/miniconda3/envs/msp/lib/python3.10/site-packages/sklearn/linear_model/_coordinate_descent.py:648: ConvergenceWarning: Objective did not converge. You might want to increase the number of iterations, check the scale of the features or consider increasing regularisation. Duality gap: 7.585e+12, tolerance: 1.134e+11\n",
      "  model = cd_fast.enet_coordinate_descent(\n",
      "/home/marina/miniconda3/envs/msp/lib/python3.10/site-packages/sklearn/linear_model/_coordinate_descent.py:648: ConvergenceWarning: Objective did not converge. You might want to increase the number of iterations, check the scale of the features or consider increasing regularisation. Duality gap: 5.911e+11, tolerance: 1.132e+10\n",
      "  model = cd_fast.enet_coordinate_descent(\n",
      "/home/marina/miniconda3/envs/msp/lib/python3.10/site-packages/sklearn/linear_model/_coordinate_descent.py:648: ConvergenceWarning: Objective did not converge. You might want to increase the number of iterations, check the scale of the features or consider increasing regularisation. Duality gap: 1.402e+12, tolerance: 2.367e+10\n",
      "  model = cd_fast.enet_coordinate_descent(\n",
      "/home/marina/miniconda3/envs/msp/lib/python3.10/site-packages/sklearn/linear_model/_coordinate_descent.py:648: ConvergenceWarning: Objective did not converge. You might want to increase the number of iterations, check the scale of the features or consider increasing regularisation. Duality gap: 2.289e+12, tolerance: 3.531e+10\n",
      "  model = cd_fast.enet_coordinate_descent(\n",
      "/home/marina/miniconda3/envs/msp/lib/python3.10/site-packages/sklearn/linear_model/_coordinate_descent.py:648: ConvergenceWarning: Objective did not converge. You might want to increase the number of iterations, check the scale of the features or consider increasing regularisation. Duality gap: 2.792e+12, tolerance: 4.632e+10\n",
      "  model = cd_fast.enet_coordinate_descent(\n",
      "/home/marina/miniconda3/envs/msp/lib/python3.10/site-packages/sklearn/linear_model/_coordinate_descent.py:648: ConvergenceWarning: Objective did not converge. You might want to increase the number of iterations, check the scale of the features or consider increasing regularisation. Duality gap: 3.683e+12, tolerance: 5.797e+10\n",
      "  model = cd_fast.enet_coordinate_descent(\n",
      "/home/marina/miniconda3/envs/msp/lib/python3.10/site-packages/sklearn/linear_model/_coordinate_descent.py:648: ConvergenceWarning: Objective did not converge. You might want to increase the number of iterations, check the scale of the features or consider increasing regularisation. Duality gap: 4.386e+12, tolerance: 6.899e+10\n",
      "  model = cd_fast.enet_coordinate_descent(\n",
      "/home/marina/miniconda3/envs/msp/lib/python3.10/site-packages/sklearn/linear_model/_coordinate_descent.py:648: ConvergenceWarning: Objective did not converge. You might want to increase the number of iterations, check the scale of the features or consider increasing regularisation. Duality gap: 5.261e+12, tolerance: 8.057e+10\n",
      "  model = cd_fast.enet_coordinate_descent(\n",
      "/home/marina/miniconda3/envs/msp/lib/python3.10/site-packages/sklearn/linear_model/_coordinate_descent.py:648: ConvergenceWarning: Objective did not converge. You might want to increase the number of iterations, check the scale of the features or consider increasing regularisation. Duality gap: 5.807e+12, tolerance: 9.069e+10\n",
      "  model = cd_fast.enet_coordinate_descent(\n",
      "/home/marina/miniconda3/envs/msp/lib/python3.10/site-packages/sklearn/linear_model/_coordinate_descent.py:648: ConvergenceWarning: Objective did not converge. You might want to increase the number of iterations, check the scale of the features or consider increasing regularisation. Duality gap: 6.694e+12, tolerance: 1.021e+11\n",
      "  model = cd_fast.enet_coordinate_descent(\n",
      "/home/marina/miniconda3/envs/msp/lib/python3.10/site-packages/sklearn/linear_model/_coordinate_descent.py:648: ConvergenceWarning: Objective did not converge. You might want to increase the number of iterations, check the scale of the features or consider increasing regularisation. Duality gap: 7.513e+12, tolerance: 1.133e+11\n",
      "  model = cd_fast.enet_coordinate_descent(\n",
      "/home/marina/miniconda3/envs/msp/lib/python3.10/site-packages/sklearn/linear_model/_coordinate_descent.py:648: ConvergenceWarning: Objective did not converge. You might want to increase the number of iterations, check the scale of the features or consider increasing regularisation. Duality gap: 5.911e+11, tolerance: 1.132e+10\n",
      "  model = cd_fast.enet_coordinate_descent(\n",
      "/home/marina/miniconda3/envs/msp/lib/python3.10/site-packages/sklearn/linear_model/_coordinate_descent.py:648: ConvergenceWarning: Objective did not converge. You might want to increase the number of iterations, check the scale of the features or consider increasing regularisation. Duality gap: 1.402e+12, tolerance: 2.367e+10\n",
      "  model = cd_fast.enet_coordinate_descent(\n",
      "/home/marina/miniconda3/envs/msp/lib/python3.10/site-packages/sklearn/linear_model/_coordinate_descent.py:648: ConvergenceWarning: Objective did not converge. You might want to increase the number of iterations, check the scale of the features or consider increasing regularisation. Duality gap: 2.289e+12, tolerance: 3.531e+10\n",
      "  model = cd_fast.enet_coordinate_descent(\n",
      "/home/marina/miniconda3/envs/msp/lib/python3.10/site-packages/sklearn/linear_model/_coordinate_descent.py:648: ConvergenceWarning: Objective did not converge. You might want to increase the number of iterations, check the scale of the features or consider increasing regularisation. Duality gap: 2.792e+12, tolerance: 4.632e+10\n",
      "  model = cd_fast.enet_coordinate_descent(\n",
      "/home/marina/miniconda3/envs/msp/lib/python3.10/site-packages/sklearn/linear_model/_coordinate_descent.py:648: ConvergenceWarning: Objective did not converge. You might want to increase the number of iterations, check the scale of the features or consider increasing regularisation. Duality gap: 3.683e+12, tolerance: 5.797e+10\n",
      "  model = cd_fast.enet_coordinate_descent(\n",
      "/home/marina/miniconda3/envs/msp/lib/python3.10/site-packages/sklearn/linear_model/_coordinate_descent.py:648: ConvergenceWarning: Objective did not converge. You might want to increase the number of iterations, check the scale of the features or consider increasing regularisation. Duality gap: 4.386e+12, tolerance: 6.899e+10\n",
      "  model = cd_fast.enet_coordinate_descent(\n",
      "/home/marina/miniconda3/envs/msp/lib/python3.10/site-packages/sklearn/linear_model/_coordinate_descent.py:648: ConvergenceWarning: Objective did not converge. You might want to increase the number of iterations, check the scale of the features or consider increasing regularisation. Duality gap: 5.261e+12, tolerance: 8.057e+10\n",
      "  model = cd_fast.enet_coordinate_descent(\n",
      "/home/marina/miniconda3/envs/msp/lib/python3.10/site-packages/sklearn/linear_model/_coordinate_descent.py:648: ConvergenceWarning: Objective did not converge. You might want to increase the number of iterations, check the scale of the features or consider increasing regularisation. Duality gap: 6.017e+12, tolerance: 9.146e+10\n",
      "  model = cd_fast.enet_coordinate_descent(\n",
      "/home/marina/miniconda3/envs/msp/lib/python3.10/site-packages/sklearn/linear_model/_coordinate_descent.py:648: ConvergenceWarning: Objective did not converge. You might want to increase the number of iterations, check the scale of the features or consider increasing regularisation. Duality gap: 6.764e+12, tolerance: 1.032e+11\n",
      "  model = cd_fast.enet_coordinate_descent(\n"
     ]
    },
    {
     "name": "stdout",
     "output_type": "stream",
     "text": [
      "[ 1369  2738  4107  5477  6846  8215  9585 10954 12323 13693]\n"
     ]
    },
    {
     "name": "stderr",
     "output_type": "stream",
     "text": [
      "/home/marina/miniconda3/envs/msp/lib/python3.10/site-packages/sklearn/linear_model/_coordinate_descent.py:648: ConvergenceWarning: Objective did not converge. You might want to increase the number of iterations, check the scale of the features or consider increasing regularisation. Duality gap: 7.610e+12, tolerance: 1.137e+11\n",
      "  model = cd_fast.enet_coordinate_descent(\n"
     ]
    },
    {
     "data": {
      "text/plain": [
       "<matplotlib.legend.Legend at 0x7f3494d1f250>"
      ]
     },
     "execution_count": 271,
     "metadata": {},
     "output_type": "execute_result"
    },
    {
     "data": {
      "image/png": "[encoded data removed]",
      "text/plain": [
       "<Figure size 432x288 with 1 Axes>"
      ]
     },
     "metadata": {
      "needs_background": "light"
     },
     "output_type": "display_data"
    }
   ],
   "source": [
    "N, train_score, val_score = learning_curve(lasso_model, X_train, y_train,\n",
    "                                           train_sizes=np.linspace(0.1, 1, 10), cv=5)\n",
    "\n",
    "print(N)\n",
    "plt.plot(N, train_score.mean(axis=1), label='train')\n",
    "plt.plot(N, val_score.mean(axis=1), label='validation')\n",
    "plt.xlabel('train_sizes')\n",
    "plt.legend()"
   ]
  },
  {
   "cell_type": "markdown",
   "metadata": {},
   "source": [
    "Elasticnet Regression"
   ]
  },
  {
   "cell_type": "code",
   "execution_count": 272,
   "metadata": {},
   "outputs": [
    {
     "data": {
      "text/plain": [
       "0.7531887785729673"
      ]
     },
     "execution_count": 272,
     "metadata": {},
     "output_type": "execute_result"
    }
   ],
   "source": [
    "from sklearn.linear_model import ElasticNet\n",
    "elasticnet_model = ElasticNet(alpha=0.5)\n",
    "X = X_scale\n",
    "y = new_data.price\n",
    "X_train, X_test, y_train, y_test = train_test_split(X, y ,test_size=0.2)\n",
    "elasticnet_model.fit(X_train, y_train)\n",
    "elasticnet_model.score(X_test,y_test)"
   ]
  },
  {
   "cell_type": "code",
   "execution_count": 273,
   "metadata": {},
   "outputs": [
    {
     "name": "stdout",
     "output_type": "stream",
     "text": [
      "[ 1369  2738  4107  5477  6846  8215  9585 10954 12323 13693]\n"
     ]
    },
    {
     "data": {
      "text/plain": [
       "<matplotlib.legend.Legend at 0x7f34946d2d40>"
      ]
     },
     "execution_count": 273,
     "metadata": {},
     "output_type": "execute_result"
    },
    {
     "data": {
      "image/png": "[encoded data removed]",
      "text/plain": [
       "<Figure size 432x288 with 1 Axes>"
      ]
     },
     "metadata": {
      "needs_background": "light"
     },
     "output_type": "display_data"
    }
   ],
   "source": [
    "N, train_score, val_score = learning_curve(elasticnet_model, X_train, y_train,\n",
    "                                           train_sizes=np.linspace(0.1, 1, 10), cv=5)\n",
    "\n",
    "print(N)\n",
    "plt.plot(N, train_score.mean(axis=1), label='train')\n",
    "plt.plot(N, val_score.mean(axis=1), label='validation')\n",
    "plt.xlabel('train_sizes')\n",
    "plt.legend()"
   ]
  },
  {
   "cell_type": "markdown",
   "metadata": {},
   "source": [
    "PolynomialFeatures "
   ]
  },
  {
   "cell_type": "code",
   "execution_count": 274,
   "metadata": {},
   "outputs": [
    {
     "name": "stdout",
     "output_type": "stream",
     "text": [
      "(21397, 14)\n"
     ]
    },
    {
     "data": {
      "text/plain": [
       "0.7993694840045098"
      ]
     },
     "execution_count": 274,
     "metadata": {},
     "output_type": "execute_result"
    }
   ],
   "source": [
    "from sklearn.preprocessing import PolynomialFeatures\n",
    "poly_model = PolynomialFeatures(degree=2, include_bias=False)\n",
    "X = X_scale\n",
    "y = new_data.price\n",
    "poly_features = poly_model.fit_transform(X)\n",
    "print(X.shape)\n",
    "X_train, X_test, y_train, y_test = train_test_split(poly_features, y, test_size=0.2)\n",
    "\n",
    "poly_reg_model = LinearRegression()\n",
    "poly_reg_model.fit(X_train, y_train)\n",
    "poly_reg_model.score(X_test,y_test)\n"
   ]
  },
  {
   "cell_type": "markdown",
   "metadata": {},
   "source": [
    "5. Pipelines"
   ]
  },
  {
   "cell_type": "code",
   "execution_count": 275,
   "metadata": {},
   "outputs": [],
   "source": [
    "from sklearn.pipeline import make_pipeline\n",
    "from sklearn.model_selection import train_test_split\n",
    "import numpy as np\n"
   ]
  },
  {
   "cell_type": "code",
   "execution_count": 276,
   "metadata": {},
   "outputs": [
    {
     "data": {
      "text/plain": [
       "0.7555690584464188"
      ]
     },
     "execution_count": 276,
     "metadata": {},
     "output_type": "execute_result"
    }
   ],
   "source": [
    "X = new_data.drop('price', axis=1)\n",
    "y = new_data.price\n",
    "X_train, X_test, y_train, y_test = train_test_split(X, y, random_state=0)\n",
    "model1 = make_pipeline(StandardScaler(), Ridge())\n",
    "\n",
    "model1.fit(X_train, y_train)\n",
    "model1.score(X_test, y_test)\n",
    "\n"
   ]
  },
  {
   "cell_type": "code",
   "execution_count": 277,
   "metadata": {},
   "outputs": [],
   "source": [
    "y_pred1 = model1.predict(X)"
   ]
  },
  {
   "cell_type": "code",
   "execution_count": 278,
   "metadata": {},
   "outputs": [
    {
     "name": "stdout",
     "output_type": "stream",
     "text": [
      "MAE :  100604.08319235726\n",
      "RMSE :  317.181467290189\n",
      "median abs error : 75628.65413955599\n"
     ]
    }
   ],
   "source": [
    "print(\"MAE : \", mean_absolute_error(y,y_pred1))\n",
    "print(\"RMSE : \", np.sqrt(mean_absolute_error(y,y_pred1)))\n",
    "print('median abs error :', median_absolute_error(y, y_pred1))"
   ]
  },
  {
   "cell_type": "code",
   "execution_count": 279,
   "metadata": {},
   "outputs": [
    {
     "name": "stdout",
     "output_type": "stream",
     "text": [
      "[ 1283  2567  3851  5134  6418  7702  8985 10269 11553 12837]\n"
     ]
    },
    {
     "data": {
      "text/plain": [
       "<matplotlib.legend.Legend at 0x7f3495019960>"
      ]
     },
     "execution_count": 279,
     "metadata": {},
     "output_type": "execute_result"
    },
    {
     "data": {
      "image/png": "[encoded data removed]",
      "text/plain": [
       "<Figure size 432x288 with 1 Axes>"
      ]
     },
     "metadata": {
      "needs_background": "light"
     },
     "output_type": "display_data"
    }
   ],
   "source": [
    "N, train_score, val_score = learning_curve(model1, X_train, y_train,\n",
    "                                           train_sizes=np.linspace(0.1, 1, 10), cv=5)\n",
    "\n",
    "print(N)\n",
    "plt.plot(N, train_score.mean(axis=1), label='train')\n",
    "plt.plot(N, val_score.mean(axis=1), label='validation')\n",
    "plt.xlabel('train_sizes')\n",
    "plt.legend()"
   ]
  },
  {
   "cell_type": "code",
   "execution_count": 280,
   "metadata": {},
   "outputs": [],
   "source": [
    "def prix(model1, sqft_living = 3940, grade = 9, sqft_above = 3940, sqft_living15 = 2370, bathrooms = 3.75, view = 3, sqft_basement = 0, bedrooms = 5.0, lat = 47.6203, waterfront = 0, house_age = 64, zipcode_98004 = 1, zipcode_98039 = 0, zipcode_98040 = 0):\n",
    "    x = np.array([sqft_living, grade, sqft_above, sqft_living15, bathrooms, view, sqft_basement, bedrooms, lat, waterfront, house_age, zipcode_98004, zipcode_98039, zipcode_98040]).reshape(1,14)\n",
    "    print(model1.predict(x))"
   ]
  },
  {
   "cell_type": "code",
   "execution_count": 281,
   "metadata": {},
   "outputs": [
    {
     "name": "stdout",
     "output_type": "stream",
     "text": [
      "[1554351.66302997]\n"
     ]
    },
    {
     "name": "stderr",
     "output_type": "stream",
     "text": [
      "/home/marina/miniconda3/envs/msp/lib/python3.10/site-packages/sklearn/base.py:450: UserWarning: X does not have valid feature names, but StandardScaler was fitted with feature names\n",
      "  warnings.warn(\n"
     ]
    }
   ],
   "source": [
    "prix(model1)"
   ]
  },
  {
   "cell_type": "code",
   "execution_count": 282,
   "metadata": {},
   "outputs": [],
   "source": [
    "y_pred = model1.predict(X_train)"
   ]
  },
  {
   "cell_type": "code",
   "execution_count": 283,
   "metadata": {},
   "outputs": [],
   "source": [
    "residual = abs(y_train - y_pred)"
   ]
  },
  {
   "cell_type": "code",
   "execution_count": 284,
   "metadata": {},
   "outputs": [
    {
     "data": {
      "text/plain": [
       "6213     1.129540e+01\n",
       "6509     1.728956e+01\n",
       "6007     1.911662e+01\n",
       "20059    2.083881e+01\n",
       "3461     4.763622e+01\n",
       "             ...     \n",
       "149      9.311490e+05\n",
       "19       9.340504e+05\n",
       "110      9.383065e+05\n",
       "28       9.588112e+05\n",
       "78       1.031628e+06\n",
       "Name: price, Length: 16047, dtype: float64"
      ]
     },
     "execution_count": 284,
     "metadata": {},
     "output_type": "execute_result"
    }
   ],
   "source": [
    "residual.sort_values()"
   ]
  },
  {
   "cell_type": "code",
   "execution_count": 285,
   "metadata": {},
   "outputs": [
    {
     "data": {
      "image/png": "[encoded data removed]",
      "text/plain": [
       "<Figure size 432x288 with 1 Axes>"
      ]
     },
     "metadata": {
      "needs_background": "light"
     },
     "output_type": "display_data"
    }
   ],
   "source": [
    "\n",
    "plt.hist(residual, bins = 50)\n",
    "plt.show()"
   ]
  },
  {
   "cell_type": "code",
   "execution_count": 286,
   "metadata": {},
   "outputs": [
    {
     "name": "stderr",
     "output_type": "stream",
     "text": [
      "/home/marina/miniconda3/envs/msp/lib/python3.10/site-packages/seaborn/_decorators.py:36: FutureWarning: Pass the following variables as keyword args: x, y. From version 0.12, the only valid positional argument will be `data`, and passing other arguments without an explicit keyword will result in an error or misinterpretation.\n",
      "  warnings.warn(\n"
     ]
    },
    {
     "data": {
      "image/png": "[encoded data removed]",
      "text/plain": [
       "<Figure size 432x288 with 1 Axes>"
      ]
     },
     "metadata": {
      "needs_background": "light"
     },
     "output_type": "display_data"
    }
   ],
   "source": [
    "sns.scatterplot(residual.index, residual)\n",
    "plt.title('Poids des résidus')\n",
    "plt.ylabel('erreur')\n",
    "plt.show()"
   ]
  },
  {
   "cell_type": "code",
   "execution_count": 287,
   "metadata": {},
   "outputs": [],
   "source": [
    "to_drop = residual[residual > 500000].index"
   ]
  },
  {
   "cell_type": "code",
   "execution_count": 288,
   "metadata": {},
   "outputs": [],
   "source": [
    "df_cleaned = new_data.drop(to_drop)"
   ]
  },
  {
   "cell_type": "code",
   "execution_count": 289,
   "metadata": {},
   "outputs": [
    {
     "data": {
      "text/html": [
       "<div>\n",
       "<style scoped>\n",
       "    .dataframe tbody tr th:only-of-type {\n",
       "        vertical-align: middle;\n",
       "    }\n",
       "\n",
       "    .dataframe tbody tr th {\n",
       "        vertical-align: top;\n",
       "    }\n",
       "\n",
       "    .dataframe thead th {\n",
       "        text-align: right;\n",
       "    }\n",
       "</style>\n",
       "<table border=\"1\" class=\"dataframe\">\n",
       "  <thead>\n",
       "    <tr style=\"text-align: right;\">\n",
       "      <th></th>\n",
       "      <th>price</th>\n",
       "      <th>sqft_living</th>\n",
       "      <th>grade</th>\n",
       "      <th>sqft_above</th>\n",
       "      <th>sqft_living15</th>\n",
       "      <th>bathrooms</th>\n",
       "      <th>view</th>\n",
       "      <th>sqft_basement</th>\n",
       "      <th>bedrooms</th>\n",
       "      <th>lat</th>\n",
       "      <th>waterfront</th>\n",
       "      <th>house_age</th>\n",
       "      <th>zipcode_98004</th>\n",
       "      <th>zipcode_98039</th>\n",
       "      <th>zipcode_98040</th>\n",
       "    </tr>\n",
       "  </thead>\n",
       "  <tbody>\n",
       "    <tr>\n",
       "      <th>0</th>\n",
       "      <td>1965000.0</td>\n",
       "      <td>3940</td>\n",
       "      <td>9</td>\n",
       "      <td>3940</td>\n",
       "      <td>2370</td>\n",
       "      <td>3.750000</td>\n",
       "      <td>3</td>\n",
       "      <td>0</td>\n",
       "      <td>5.0</td>\n",
       "      <td>47.6203</td>\n",
       "      <td>0</td>\n",
       "      <td>64</td>\n",
       "      <td>1</td>\n",
       "      <td>0</td>\n",
       "      <td>0</td>\n",
       "    </tr>\n",
       "    <tr>\n",
       "      <th>1</th>\n",
       "      <td>1960000.0</td>\n",
       "      <td>4430</td>\n",
       "      <td>12</td>\n",
       "      <td>4430</td>\n",
       "      <td>3900</td>\n",
       "      <td>4.000000</td>\n",
       "      <td>0</td>\n",
       "      <td>0</td>\n",
       "      <td>4.0</td>\n",
       "      <td>47.6422</td>\n",
       "      <td>0</td>\n",
       "      <td>17</td>\n",
       "      <td>0</td>\n",
       "      <td>0</td>\n",
       "      <td>0</td>\n",
       "    </tr>\n",
       "    <tr>\n",
       "      <th>2</th>\n",
       "      <td>1959000.0</td>\n",
       "      <td>6200</td>\n",
       "      <td>11</td>\n",
       "      <td>5050</td>\n",
       "      <td>3700</td>\n",
       "      <td>4.500000</td>\n",
       "      <td>1</td>\n",
       "      <td>1150</td>\n",
       "      <td>5.0</td>\n",
       "      <td>47.5632</td>\n",
       "      <td>0</td>\n",
       "      <td>26</td>\n",
       "      <td>0</td>\n",
       "      <td>0</td>\n",
       "      <td>1</td>\n",
       "    </tr>\n",
       "    <tr>\n",
       "      <th>4</th>\n",
       "      <td>1955000.0</td>\n",
       "      <td>3330</td>\n",
       "      <td>8</td>\n",
       "      <td>1940</td>\n",
       "      <td>3730</td>\n",
       "      <td>1.750000</td>\n",
       "      <td>4</td>\n",
       "      <td>1390</td>\n",
       "      <td>3.0</td>\n",
       "      <td>47.5287</td>\n",
       "      <td>1</td>\n",
       "      <td>55</td>\n",
       "      <td>0</td>\n",
       "      <td>0</td>\n",
       "      <td>1</td>\n",
       "    </tr>\n",
       "    <tr>\n",
       "      <th>5</th>\n",
       "      <td>1950000.0</td>\n",
       "      <td>4065</td>\n",
       "      <td>10</td>\n",
       "      <td>4065</td>\n",
       "      <td>3070</td>\n",
       "      <td>3.500000</td>\n",
       "      <td>0</td>\n",
       "      <td>0</td>\n",
       "      <td>4.0</td>\n",
       "      <td>47.6209</td>\n",
       "      <td>0</td>\n",
       "      <td>27</td>\n",
       "      <td>0</td>\n",
       "      <td>1</td>\n",
       "      <td>0</td>\n",
       "    </tr>\n",
       "    <tr>\n",
       "      <th>...</th>\n",
       "      <td>...</td>\n",
       "      <td>...</td>\n",
       "      <td>...</td>\n",
       "      <td>...</td>\n",
       "      <td>...</td>\n",
       "      <td>...</td>\n",
       "      <td>...</td>\n",
       "      <td>...</td>\n",
       "      <td>...</td>\n",
       "      <td>...</td>\n",
       "      <td>...</td>\n",
       "      <td>...</td>\n",
       "      <td>...</td>\n",
       "      <td>...</td>\n",
       "      <td>...</td>\n",
       "    </tr>\n",
       "    <tr>\n",
       "      <th>21392</th>\n",
       "      <td>82000.0</td>\n",
       "      <td>860</td>\n",
       "      <td>6</td>\n",
       "      <td>860</td>\n",
       "      <td>1140</td>\n",
       "      <td>1.000000</td>\n",
       "      <td>0</td>\n",
       "      <td>0</td>\n",
       "      <td>3.0</td>\n",
       "      <td>47.4987</td>\n",
       "      <td>0</td>\n",
       "      <td>60</td>\n",
       "      <td>0</td>\n",
       "      <td>0</td>\n",
       "      <td>0</td>\n",
       "    </tr>\n",
       "    <tr>\n",
       "      <th>21393</th>\n",
       "      <td>81000.0</td>\n",
       "      <td>730</td>\n",
       "      <td>5</td>\n",
       "      <td>730</td>\n",
       "      <td>860</td>\n",
       "      <td>1.000000</td>\n",
       "      <td>0</td>\n",
       "      <td>0</td>\n",
       "      <td>2.0</td>\n",
       "      <td>47.4808</td>\n",
       "      <td>0</td>\n",
       "      <td>72</td>\n",
       "      <td>0</td>\n",
       "      <td>0</td>\n",
       "      <td>0</td>\n",
       "    </tr>\n",
       "    <tr>\n",
       "      <th>21394</th>\n",
       "      <td>80000.0</td>\n",
       "      <td>430</td>\n",
       "      <td>4</td>\n",
       "      <td>430</td>\n",
       "      <td>1200</td>\n",
       "      <td>0.750000</td>\n",
       "      <td>0</td>\n",
       "      <td>0</td>\n",
       "      <td>1.0</td>\n",
       "      <td>47.6499</td>\n",
       "      <td>0</td>\n",
       "      <td>102</td>\n",
       "      <td>0</td>\n",
       "      <td>0</td>\n",
       "      <td>0</td>\n",
       "    </tr>\n",
       "    <tr>\n",
       "      <th>21395</th>\n",
       "      <td>78000.0</td>\n",
       "      <td>780</td>\n",
       "      <td>5</td>\n",
       "      <td>780</td>\n",
       "      <td>1700</td>\n",
       "      <td>1.000000</td>\n",
       "      <td>0</td>\n",
       "      <td>0</td>\n",
       "      <td>2.0</td>\n",
       "      <td>47.4739</td>\n",
       "      <td>0</td>\n",
       "      <td>72</td>\n",
       "      <td>0</td>\n",
       "      <td>0</td>\n",
       "      <td>0</td>\n",
       "    </tr>\n",
       "    <tr>\n",
       "      <th>21396</th>\n",
       "      <td>75000.0</td>\n",
       "      <td>670</td>\n",
       "      <td>3</td>\n",
       "      <td>670</td>\n",
       "      <td>1160</td>\n",
       "      <td>2.114757</td>\n",
       "      <td>0</td>\n",
       "      <td>0</td>\n",
       "      <td>1.0</td>\n",
       "      <td>47.2638</td>\n",
       "      <td>0</td>\n",
       "      <td>49</td>\n",
       "      <td>0</td>\n",
       "      <td>0</td>\n",
       "      <td>0</td>\n",
       "    </tr>\n",
       "  </tbody>\n",
       "</table>\n",
       "<p>21253 rows × 15 columns</p>\n",
       "</div>"
      ],
      "text/plain": [
       "           price  sqft_living  grade  sqft_above  sqft_living15  bathrooms  \\\n",
       "0      1965000.0         3940      9        3940           2370   3.750000   \n",
       "1      1960000.0         4430     12        4430           3900   4.000000   \n",
       "2      1959000.0         6200     11        5050           3700   4.500000   \n",
       "4      1955000.0         3330      8        1940           3730   1.750000   \n",
       "5      1950000.0         4065     10        4065           3070   3.500000   \n",
       "...          ...          ...    ...         ...            ...        ...   \n",
       "21392    82000.0          860      6         860           1140   1.000000   \n",
       "21393    81000.0          730      5         730            860   1.000000   \n",
       "21394    80000.0          430      4         430           1200   0.750000   \n",
       "21395    78000.0          780      5         780           1700   1.000000   \n",
       "21396    75000.0          670      3         670           1160   2.114757   \n",
       "\n",
       "       view  sqft_basement  bedrooms      lat  waterfront  house_age  \\\n",
       "0         3              0       5.0  47.6203           0         64   \n",
       "1         0              0       4.0  47.6422           0         17   \n",
       "2         1           1150       5.0  47.5632           0         26   \n",
       "4         4           1390       3.0  47.5287           1         55   \n",
       "5         0              0       4.0  47.6209           0         27   \n",
       "...     ...            ...       ...      ...         ...        ...   \n",
       "21392     0              0       3.0  47.4987           0         60   \n",
       "21393     0              0       2.0  47.4808           0         72   \n",
       "21394     0              0       1.0  47.6499           0        102   \n",
       "21395     0              0       2.0  47.4739           0         72   \n",
       "21396     0              0       1.0  47.2638           0         49   \n",
       "\n",
       "       zipcode_98004  zipcode_98039  zipcode_98040  \n",
       "0                  1              0              0  \n",
       "1                  0              0              0  \n",
       "2                  0              0              1  \n",
       "4                  0              0              1  \n",
       "5                  0              1              0  \n",
       "...              ...            ...            ...  \n",
       "21392              0              0              0  \n",
       "21393              0              0              0  \n",
       "21394              0              0              0  \n",
       "21395              0              0              0  \n",
       "21396              0              0              0  \n",
       "\n",
       "[21253 rows x 15 columns]"
      ]
     },
     "execution_count": 289,
     "metadata": {},
     "output_type": "execute_result"
    }
   ],
   "source": [
    "df_cleaned"
   ]
  },
  {
   "cell_type": "code",
   "execution_count": 290,
   "metadata": {},
   "outputs": [
    {
     "data": {
      "text/plain": [
       "0.7753358377494703"
      ]
     },
     "execution_count": 290,
     "metadata": {},
     "output_type": "execute_result"
    }
   ],
   "source": [
    "X = df_cleaned.drop('price', axis=1)\n",
    "y = df_cleaned.price\n",
    "X_train, X_test, y_train, y_test = train_test_split(X, y, random_state=0)\n",
    "model1 = make_pipeline(StandardScaler(), Ridge())\n",
    "\n",
    "model1.fit(X_train, y_train)\n",
    "model1.score(X_test, y_test)"
   ]
  },
  {
   "cell_type": "markdown",
   "metadata": {},
   "source": [
    "6.GridSearchCV"
   ]
  },
  {
   "cell_type": "code",
   "execution_count": 291,
   "metadata": {},
   "outputs": [
    {
     "data": {
      "text/plain": [
       "0.7752860909456892"
      ]
     },
     "execution_count": 291,
     "metadata": {},
     "output_type": "execute_result"
    }
   ],
   "source": [
    "from sklearn.model_selection import GridSearchCV\n",
    "from sklearn.model_selection import cross_val_score\n",
    "\n",
    "model = make_pipeline(PolynomialFeatures(),\n",
    "                      StandardScaler(),Ridge())\n",
    "params = {\n",
    "    #'polynomialfeatures__degree':[2,3,4],\n",
    "    'ridge__alpha': np.linspace(0, 1, 50)\n",
    " \n",
    "}\n",
    "\n",
    "grid = GridSearchCV(model, param_grid=params, cv=5)\n",
    "\n",
    "grid.fit(X_train, y_train)\n",
    "grid.score(X_test, y_test)\n",
    "\n",
    "\n",
    "\n"
   ]
  },
  {
   "cell_type": "code",
   "execution_count": 292,
   "metadata": {},
   "outputs": [
    {
     "data": {
      "text/plain": [
       "0.806782414080431"
      ]
     },
     "execution_count": 292,
     "metadata": {},
     "output_type": "execute_result"
    }
   ],
   "source": [
    "grid.best_score_"
   ]
  },
  {
   "cell_type": "code",
   "execution_count": 293,
   "metadata": {},
   "outputs": [
    {
     "data": {
      "text/plain": [
       "{'ridge__alpha': 0.0}"
      ]
     },
     "execution_count": 293,
     "metadata": {},
     "output_type": "execute_result"
    }
   ],
   "source": [
    "grid.best_params_"
   ]
  },
  {
   "cell_type": "code",
   "execution_count": 294,
   "metadata": {},
   "outputs": [],
   "source": [
    "model_grid = grid.best_estimator_"
   ]
  },
  {
   "cell_type": "code",
   "execution_count": 295,
   "metadata": {},
   "outputs": [
    {
     "data": {
      "text/plain": [
       "0.7752860909456892"
      ]
     },
     "execution_count": 295,
     "metadata": {},
     "output_type": "execute_result"
    }
   ],
   "source": [
    "model_grid.score(X_test, y_test)"
   ]
  }
 ],
 "metadata": {
  "kernelspec": {
   "display_name": "Python 3.10.4 ('msp')",
   "language": "python",
   "name": "python3"
  },
  "language_info": {
   "codemirror_mode": {
    "name": "ipython",
    "version": 3
   },
   "file_extension": ".py",
   "mimetype": "text/x-python",
   "name": "python",
   "nbconvert_exporter": "python",
   "pygments_lexer": "ipython3",
   "version": "3.10.4"
  },
  "orig_nbformat": 4,
  "vscode": {
   "interpreter": {
    "hash": "e43de2885b7208df0af0ecfd4fabf18ceb34b9c7ffbe7e2bc13d1dfb6933a2d0"
   }
  }
 },
 "nbformat": 4,
 "nbformat_minor": 2
}
